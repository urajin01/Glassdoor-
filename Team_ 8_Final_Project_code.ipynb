{
 "cells": [
  {
   "cell_type": "markdown",
   "id": "c248f32f",
   "metadata": {},
   "source": [
    "## 1. Settting Up\n",
    "\n",
    "Our aim with this document is extracting the 20 intial reviews of each company (49) of the webpage https://www.indeed.com/companies/search?q=nurse&l=New+York%2C+NY"
   ]
  },
  {
   "cell_type": "code",
   "execution_count": 1,
   "id": "08341862",
   "metadata": {},
   "outputs": [],
   "source": [
    "from bs4 import BeautifulSoup\n",
    "from selenium import webdriver\n",
    "from selenium.webdriver.chrome.service import Service"
   ]
  },
  {
   "cell_type": "code",
   "execution_count": 2,
   "id": "c2c5f9e3",
   "metadata": {},
   "outputs": [],
   "source": [
    "driver = webdriver.Chrome(service = Service(\"chromedriver.exe\"))"
   ]
  },
  {
   "cell_type": "code",
   "execution_count": 3,
   "id": "0be4784d",
   "metadata": {},
   "outputs": [],
   "source": [
    "url = \"https://www.indeed.com/companies/search?q=nurse&l=New+York%2C+NY\"\n",
    "driver.get(url)"
   ]
  },
  {
   "cell_type": "code",
   "execution_count": 4,
   "id": "bf521035",
   "metadata": {},
   "outputs": [],
   "source": [
    "from selenium.webdriver.common.by import By"
   ]
  },
  {
   "cell_type": "code",
   "execution_count": 5,
   "id": "9a9918e6",
   "metadata": {},
   "outputs": [],
   "source": [
    "from selenium.webdriver.common.keys import Keys"
   ]
  },
  {
   "cell_type": "markdown",
   "id": "d4b0b0fe",
   "metadata": {},
   "source": [
    "## 2. Getting to the Review page"
   ]
  },
  {
   "cell_type": "code",
   "execution_count": 6,
   "id": "e3f75e97",
   "metadata": {},
   "outputs": [],
   "source": [
    "links=driver.find_elements(By.CSS_SELECTOR, \"a.css-1s5eo7v.eu4oa1w0\")"
   ]
  },
  {
   "cell_type": "code",
   "execution_count": 7,
   "id": "20723492",
   "metadata": {},
   "outputs": [
    {
     "data": {
      "text/plain": [
       "50"
      ]
     },
     "execution_count": 7,
     "metadata": {},
     "output_type": "execute_result"
    }
   ],
   "source": [
    "len(links)"
   ]
  },
  {
   "cell_type": "code",
   "execution_count": 8,
   "id": "755b833c",
   "metadata": {},
   "outputs": [],
   "source": [
    "links[1].send_keys(Keys.CONTROL + Keys.ENTER)"
   ]
  },
  {
   "cell_type": "code",
   "execution_count": 9,
   "id": "06a26277",
   "metadata": {},
   "outputs": [],
   "source": [
    "main_window=driver.current_window_handle"
   ]
  },
  {
   "cell_type": "code",
   "execution_count": 10,
   "id": "0acffeb8",
   "metadata": {},
   "outputs": [],
   "source": [
    "driver.switch_to.window(driver.window_handles[1])"
   ]
  },
  {
   "cell_type": "code",
   "execution_count": 11,
   "id": "b7153f63",
   "metadata": {},
   "outputs": [],
   "source": [
    "l_review = driver.find_elements(By.CSS_SELECTOR, \"a.css-iigu5k.emf9s7v0\")"
   ]
  },
  {
   "cell_type": "code",
   "execution_count": 12,
   "id": "6fb27a79",
   "metadata": {},
   "outputs": [],
   "source": [
    "l_review[1].click()"
   ]
  },
  {
   "cell_type": "code",
   "execution_count": 13,
   "id": "0b9fae30",
   "metadata": {},
   "outputs": [],
   "source": [
    "l_review_rating=driver.find_elements(By.CSS_SELECTOR, \"a.css-1cnefl7.e8ju0x51\")"
   ]
  },
  {
   "cell_type": "code",
   "execution_count": 14,
   "id": "87d847ee",
   "metadata": {},
   "outputs": [],
   "source": [
    "driver.find_element(By.TAG_NAME, \"body\").send_keys(Keys.PAGE_DOWN)"
   ]
  },
  {
   "cell_type": "code",
   "execution_count": 15,
   "id": "2d97db9f",
   "metadata": {
    "scrolled": true
   },
   "outputs": [],
   "source": [
    "l_review_rating[0].click()"
   ]
  },
  {
   "cell_type": "code",
   "execution_count": 19,
   "id": "6d6d8f77",
   "metadata": {},
   "outputs": [],
   "source": [
    "for n in range(0,6):\n",
    "    driver.find_element(By.TAG_NAME, \"body\").send_keys(Keys.ARROW_DOWN)"
   ]
  },
  {
   "cell_type": "code",
   "execution_count": 20,
   "id": "3511d5f0",
   "metadata": {
    "scrolled": false
   },
   "outputs": [],
   "source": [
    "l_review_rating_ascend=driver.find_elements(By.CSS_SELECTOR, \"a.css-pya7uq.e8ju0x51\")\n",
    "l_review_rating_ascend[0].click()"
   ]
  },
  {
   "cell_type": "code",
   "execution_count": 21,
   "id": "0306a3dc",
   "metadata": {},
   "outputs": [],
   "source": [
    "for n in range(0,6):\n",
    "    driver.find_element(By.TAG_NAME, \"body\").send_keys(Keys.ARROW_DOWN)"
   ]
  },
  {
   "cell_type": "code",
   "execution_count": 22,
   "id": "c297db26",
   "metadata": {},
   "outputs": [],
   "source": [
    "l_review_location=driver.find_elements(By.CSS_SELECTOR, \"button.css-58dwsx.e37uo190\")"
   ]
  },
  {
   "cell_type": "code",
   "execution_count": 23,
   "id": "df81145e",
   "metadata": {},
   "outputs": [],
   "source": [
    "l_review_location2=driver.find_elements(By.CSS_SELECTOR, \"div.cmp-Select__control.css-1faf0s3-control\")"
   ]
  },
  {
   "cell_type": "code",
   "execution_count": 24,
   "id": "6b3dcb71",
   "metadata": {
    "scrolled": true
   },
   "outputs": [
    {
     "data": {
      "text/plain": [
       "2"
      ]
     },
     "execution_count": 24,
     "metadata": {},
     "output_type": "execute_result"
    }
   ],
   "source": [
    "len(l_review_location2)"
   ]
  },
  {
   "cell_type": "code",
   "execution_count": 25,
   "id": "97f8a2d5",
   "metadata": {
    "scrolled": false
   },
   "outputs": [],
   "source": [
    "l_review_location2[1].click()"
   ]
  },
  {
   "cell_type": "code",
   "execution_count": 26,
   "id": "b49b820f",
   "metadata": {},
   "outputs": [],
   "source": [
    "lrl2 = driver.find_element(By.ID, \"react-select-cmp-Select-Location-input\")"
   ]
  },
  {
   "cell_type": "code",
   "execution_count": 27,
   "id": "b4a2c585",
   "metadata": {},
   "outputs": [],
   "source": [
    "lrl2.send_keys(\"New York, NY\" + Keys.ARROW_DOWN + Keys.ENTER)"
   ]
  },
  {
   "cell_type": "markdown",
   "id": "e83ccb1f",
   "metadata": {},
   "source": [
    "## 3. Crawling the Review Body Data"
   ]
  },
  {
   "cell_type": "code",
   "execution_count": 28,
   "id": "1f658d6a",
   "metadata": {},
   "outputs": [],
   "source": [
    "doc=BeautifulSoup(driver.page_source, \"html.parser\")"
   ]
  },
  {
   "cell_type": "code",
   "execution_count": 29,
   "id": "82d9278b",
   "metadata": {},
   "outputs": [],
   "source": [
    "end=len(doc.find_all(attrs={\"itemprop\": \"reviewBody\"}))"
   ]
  },
  {
   "cell_type": "code",
   "execution_count": 30,
   "id": "b1bb9e7a",
   "metadata": {},
   "outputs": [],
   "source": [
    "rb = [doc.find_all(attrs={\"itemprop\": \"reviewBody\"})[n].span.text.strip() for n in range(0,end)]"
   ]
  },
  {
   "cell_type": "code",
   "execution_count": 31,
   "id": "17bdda42",
   "metadata": {
    "scrolled": true
   },
   "outputs": [
    {
     "data": {
      "text/plain": [
       "\"If you enjoy a misogynistic, hostile work environment then go for it. This is a horrible place to work. I don't know anyone not looking for another job.\""
      ]
     },
     "execution_count": 31,
     "metadata": {},
     "output_type": "execute_result"
    }
   ],
   "source": [
    "rb[0]"
   ]
  },
  {
   "cell_type": "code",
   "execution_count": 32,
   "id": "e0c6265a",
   "metadata": {},
   "outputs": [],
   "source": [
    "rn = [n.text for n in doc.find(attrs={\"itemprop\": \"name\"})]"
   ]
  },
  {
   "cell_type": "code",
   "execution_count": 33,
   "id": "4e4e677b",
   "metadata": {
    "scrolled": false
   },
   "outputs": [
    {
     "data": {
      "text/plain": [
       "['NYC Health + Hospitals']"
      ]
     },
     "execution_count": 33,
     "metadata": {},
     "output_type": "execute_result"
    }
   ],
   "source": [
    "rn"
   ]
  },
  {
   "cell_type": "markdown",
   "id": "665f1600",
   "metadata": {},
   "source": [
    "## 4. Looping through all the Companies"
   ]
  },
  {
   "cell_type": "code",
   "execution_count": 34,
   "id": "650cd1b8",
   "metadata": {},
   "outputs": [],
   "source": [
    "from time import sleep"
   ]
  },
  {
   "cell_type": "code",
   "execution_count": 35,
   "id": "53f334e7",
   "metadata": {},
   "outputs": [
    {
     "data": {
      "text/plain": [
       "50"
      ]
     },
     "execution_count": 35,
     "metadata": {},
     "output_type": "execute_result"
    }
   ],
   "source": [
    "len(links)"
   ]
  },
  {
   "cell_type": "code",
   "execution_count": 36,
   "id": "998fd7ff",
   "metadata": {},
   "outputs": [],
   "source": [
    "driver.close()"
   ]
  },
  {
   "cell_type": "code",
   "execution_count": 37,
   "id": "7457a82e",
   "metadata": {},
   "outputs": [],
   "source": [
    "driver.switch_to.window(main_window)"
   ]
  },
  {
   "cell_type": "code",
   "execution_count": 38,
   "id": "1dcc9a68",
   "metadata": {},
   "outputs": [],
   "source": [
    "c_name = []\n",
    "c_review = []\n",
    "\n",
    "for l in links[1:50]:\n",
    "    \n",
    "    l.send_keys(Keys.CONTROL + Keys.ENTER)\n",
    "    \n",
    "    main_window=driver.current_window_handle\n",
    "    driver.switch_to.window(driver.window_handles[1])\n",
    "\n",
    "    l_r = driver.find_elements(By.CSS_SELECTOR, \"a.css-iigu5k.emf9s7v0\")\n",
    "    l_r[1].click()\n",
    "    \n",
    "    sleep(2)\n",
    "    \n",
    "    driver.find_element(By.TAG_NAME, \"body\").send_keys(Keys.PAGE_DOWN)\n",
    "    \n",
    "    sleep(2)\n",
    "    \n",
    "    l_review_rating=driver.find_elements(By.CSS_SELECTOR, \"a.css-1cnefl7.e8ju0x51\")\n",
    "    l_review_rating[0].click()\n",
    "        \n",
    "    sleep(2)\n",
    "    \n",
    "    driver.find_element(By.TAG_NAME, \"body\").send_keys(Keys.PAGE_DOWN)\n",
    "    \n",
    "    sleep(2)\n",
    "\n",
    "    l_review_rating_ascend=driver.find_elements(By.CSS_SELECTOR, \"a.css-pya7uq.e8ju0x51\")\n",
    "    l_review_rating_ascend[0].click()\n",
    "        \n",
    "    for n in range(0,6):\n",
    "        driver.find_element(By.TAG_NAME, \"body\").send_keys(Keys.ARROW_DOWN)\n",
    "        \n",
    "    sleep(2)\n",
    "        \n",
    "    l_review_location=driver.find_elements(By.CSS_SELECTOR, \"button.css-58dwsx.e37uo190\")\n",
    "\n",
    "    l_review_location2=driver.find_elements(By.CSS_SELECTOR, \"div.cmp-Select__control.css-1faf0s3-control\")\n",
    "    l_review_location2[1].click()\n",
    "        \n",
    "    sleep(2)\n",
    "        \n",
    "    lrl2 = driver.find_element(By.ID, \"react-select-cmp-Select-Location-input\")\n",
    "    lrl2.send_keys(\"New York, NY\" + Keys.ARROW_DOWN + Keys.ENTER)\n",
    "        \n",
    "    sleep(2)\n",
    "        \n",
    "    doc=BeautifulSoup(driver.page_source, \"html.parser\")\n",
    "    \n",
    "    end=len(doc.find_all(attrs={\"itemprop\": \"reviewBody\"}))\n",
    "    rb = [doc.find_all(attrs={\"itemprop\": \"reviewBody\"})[n].span.text.strip() for n in range(0,end)]\n",
    "    c_review.extend(rb)\n",
    "    \n",
    "    rn = [n.text for n in doc.find(attrs={\"itemprop\": \"name\"})]\n",
    "    for n in range(1,end):\n",
    "        c_name.extend(rn)\n",
    "    \n",
    "    driver.close()\n",
    "    driver.switch_to.window(main_window)"
   ]
  },
  {
   "cell_type": "code",
   "execution_count": 39,
   "id": "be2c6cc4",
   "metadata": {},
   "outputs": [
    {
     "data": {
      "text/plain": [
       "655"
      ]
     },
     "execution_count": 39,
     "metadata": {},
     "output_type": "execute_result"
    }
   ],
   "source": [
    "len(c_review)"
   ]
  },
  {
   "cell_type": "code",
   "execution_count": 40,
   "id": "545ae09a",
   "metadata": {},
   "outputs": [],
   "source": [
    "import pandas as pd "
   ]
  },
  {
   "cell_type": "code",
   "execution_count": 41,
   "id": "faf672b5",
   "metadata": {},
   "outputs": [],
   "source": [
    "table1 = pd.DataFrame({\"Review\":c_review})"
   ]
  },
  {
   "cell_type": "code",
   "execution_count": 42,
   "id": "1ac39f7d",
   "metadata": {
    "scrolled": true
   },
   "outputs": [
    {
     "data": {
      "text/html": [
       "<div>\n",
       "<style scoped>\n",
       "    .dataframe tbody tr th:only-of-type {\n",
       "        vertical-align: middle;\n",
       "    }\n",
       "\n",
       "    .dataframe tbody tr th {\n",
       "        vertical-align: top;\n",
       "    }\n",
       "\n",
       "    .dataframe thead th {\n",
       "        text-align: right;\n",
       "    }\n",
       "</style>\n",
       "<table border=\"1\" class=\"dataframe\">\n",
       "  <thead>\n",
       "    <tr style=\"text-align: right;\">\n",
       "      <th></th>\n",
       "      <th>Review</th>\n",
       "    </tr>\n",
       "  </thead>\n",
       "  <tbody>\n",
       "    <tr>\n",
       "      <th>0</th>\n",
       "      <td>If you enjoy a misogynistic, hostile work envi...</td>\n",
       "    </tr>\n",
       "    <tr>\n",
       "      <th>1</th>\n",
       "      <td>Over worked the place is Staffed with lazy pca...</td>\n",
       "    </tr>\n",
       "    <tr>\n",
       "      <th>2</th>\n",
       "      <td>This place is horrible! I would never recommen...</td>\n",
       "    </tr>\n",
       "    <tr>\n",
       "      <th>3</th>\n",
       "      <td>A joke still a joke \\rStep up the level of int...</td>\n",
       "    </tr>\n",
       "    <tr>\n",
       "      <th>4</th>\n",
       "      <td>Do not take any job at health &amp; hospital corp....</td>\n",
       "    </tr>\n",
       "    <tr>\n",
       "      <th>...</th>\n",
       "      <td>...</td>\n",
       "    </tr>\n",
       "    <tr>\n",
       "      <th>650</th>\n",
       "      <td>Small door gives you the opportunity of learni...</td>\n",
       "    </tr>\n",
       "    <tr>\n",
       "      <th>651</th>\n",
       "      <td>Upper management really wants to see everyone ...</td>\n",
       "    </tr>\n",
       "    <tr>\n",
       "      <th>652</th>\n",
       "      <td>Small Door is an amazing place to work. So man...</td>\n",
       "    </tr>\n",
       "    <tr>\n",
       "      <th>653</th>\n",
       "      <td>I can sincerely say that it has been the most ...</td>\n",
       "    </tr>\n",
       "    <tr>\n",
       "      <th>654</th>\n",
       "      <td>Small Door is an early stage startup that is j...</td>\n",
       "    </tr>\n",
       "  </tbody>\n",
       "</table>\n",
       "<p>655 rows × 1 columns</p>\n",
       "</div>"
      ],
      "text/plain": [
       "                                                Review\n",
       "0    If you enjoy a misogynistic, hostile work envi...\n",
       "1    Over worked the place is Staffed with lazy pca...\n",
       "2    This place is horrible! I would never recommen...\n",
       "3    A joke still a joke \\rStep up the level of int...\n",
       "4    Do not take any job at health & hospital corp....\n",
       "..                                                 ...\n",
       "650  Small door gives you the opportunity of learni...\n",
       "651  Upper management really wants to see everyone ...\n",
       "652  Small Door is an amazing place to work. So man...\n",
       "653  I can sincerely say that it has been the most ...\n",
       "654  Small Door is an early stage startup that is j...\n",
       "\n",
       "[655 rows x 1 columns]"
      ]
     },
     "execution_count": 42,
     "metadata": {},
     "output_type": "execute_result"
    }
   ],
   "source": [
    "table1"
   ]
  },
  {
   "cell_type": "markdown",
   "id": "e6e6a3dc",
   "metadata": {},
   "source": [
    "## 5. Sentiment Analysis"
   ]
  },
  {
   "cell_type": "code",
   "execution_count": 43,
   "id": "52930f86",
   "metadata": {},
   "outputs": [],
   "source": [
    "from nltk.sentiment.vader import SentimentIntensityAnalyzer\n",
    "vader = SentimentIntensityAnalyzer()"
   ]
  },
  {
   "cell_type": "code",
   "execution_count": 44,
   "id": "008fa7c8",
   "metadata": {},
   "outputs": [],
   "source": [
    "sentiments=[vader.polarity_scores(r)[\"neg\"] for r in c_review]"
   ]
  },
  {
   "cell_type": "code",
   "execution_count": 45,
   "id": "024cc584",
   "metadata": {},
   "outputs": [],
   "source": [
    "neg_scores=pd.DataFrame(sentiments)"
   ]
  },
  {
   "cell_type": "code",
   "execution_count": 46,
   "id": "23e16994",
   "metadata": {},
   "outputs": [],
   "source": [
    "table2 = pd.DataFrame({\"Review\":c_review, \"Neg Score\":sentiments})"
   ]
  },
  {
   "cell_type": "code",
   "execution_count": 47,
   "id": "20c0aef3",
   "metadata": {},
   "outputs": [
    {
     "data": {
      "text/html": [
       "<div>\n",
       "<style scoped>\n",
       "    .dataframe tbody tr th:only-of-type {\n",
       "        vertical-align: middle;\n",
       "    }\n",
       "\n",
       "    .dataframe tbody tr th {\n",
       "        vertical-align: top;\n",
       "    }\n",
       "\n",
       "    .dataframe thead th {\n",
       "        text-align: right;\n",
       "    }\n",
       "</style>\n",
       "<table border=\"1\" class=\"dataframe\">\n",
       "  <thead>\n",
       "    <tr style=\"text-align: right;\">\n",
       "      <th></th>\n",
       "      <th>Review</th>\n",
       "      <th>Neg Score</th>\n",
       "    </tr>\n",
       "  </thead>\n",
       "  <tbody>\n",
       "    <tr>\n",
       "      <th>0</th>\n",
       "      <td>If you enjoy a misogynistic, hostile work envi...</td>\n",
       "      <td>0.195</td>\n",
       "    </tr>\n",
       "    <tr>\n",
       "      <th>1</th>\n",
       "      <td>Over worked the place is Staffed with lazy pca...</td>\n",
       "      <td>0.238</td>\n",
       "    </tr>\n",
       "    <tr>\n",
       "      <th>2</th>\n",
       "      <td>This place is horrible! I would never recommen...</td>\n",
       "      <td>0.154</td>\n",
       "    </tr>\n",
       "    <tr>\n",
       "      <th>3</th>\n",
       "      <td>A joke still a joke \\rStep up the level of int...</td>\n",
       "      <td>0.075</td>\n",
       "    </tr>\n",
       "    <tr>\n",
       "      <th>4</th>\n",
       "      <td>Do not take any job at health &amp; hospital corp....</td>\n",
       "      <td>0.175</td>\n",
       "    </tr>\n",
       "    <tr>\n",
       "      <th>...</th>\n",
       "      <td>...</td>\n",
       "      <td>...</td>\n",
       "    </tr>\n",
       "    <tr>\n",
       "      <th>650</th>\n",
       "      <td>Small door gives you the opportunity of learni...</td>\n",
       "      <td>0.000</td>\n",
       "    </tr>\n",
       "    <tr>\n",
       "      <th>651</th>\n",
       "      <td>Upper management really wants to see everyone ...</td>\n",
       "      <td>0.000</td>\n",
       "    </tr>\n",
       "    <tr>\n",
       "      <th>652</th>\n",
       "      <td>Small Door is an amazing place to work. So man...</td>\n",
       "      <td>0.019</td>\n",
       "    </tr>\n",
       "    <tr>\n",
       "      <th>653</th>\n",
       "      <td>I can sincerely say that it has been the most ...</td>\n",
       "      <td>0.000</td>\n",
       "    </tr>\n",
       "    <tr>\n",
       "      <th>654</th>\n",
       "      <td>Small Door is an early stage startup that is j...</td>\n",
       "      <td>0.014</td>\n",
       "    </tr>\n",
       "  </tbody>\n",
       "</table>\n",
       "<p>655 rows × 2 columns</p>\n",
       "</div>"
      ],
      "text/plain": [
       "                                                Review  Neg Score\n",
       "0    If you enjoy a misogynistic, hostile work envi...      0.195\n",
       "1    Over worked the place is Staffed with lazy pca...      0.238\n",
       "2    This place is horrible! I would never recommen...      0.154\n",
       "3    A joke still a joke \\rStep up the level of int...      0.075\n",
       "4    Do not take any job at health & hospital corp....      0.175\n",
       "..                                                 ...        ...\n",
       "650  Small door gives you the opportunity of learni...      0.000\n",
       "651  Upper management really wants to see everyone ...      0.000\n",
       "652  Small Door is an amazing place to work. So man...      0.019\n",
       "653  I can sincerely say that it has been the most ...      0.000\n",
       "654  Small Door is an early stage startup that is j...      0.014\n",
       "\n",
       "[655 rows x 2 columns]"
      ]
     },
     "execution_count": 47,
     "metadata": {},
     "output_type": "execute_result"
    }
   ],
   "source": [
    "table2"
   ]
  },
  {
   "cell_type": "code",
   "execution_count": 48,
   "id": "f32c5e3a",
   "metadata": {},
   "outputs": [],
   "source": [
    "table3 = table2[table2[\"Neg Score\"] > 0.1]"
   ]
  },
  {
   "cell_type": "code",
   "execution_count": 49,
   "id": "b576d115",
   "metadata": {
    "scrolled": true
   },
   "outputs": [
    {
     "data": {
      "text/html": [
       "<div>\n",
       "<style scoped>\n",
       "    .dataframe tbody tr th:only-of-type {\n",
       "        vertical-align: middle;\n",
       "    }\n",
       "\n",
       "    .dataframe tbody tr th {\n",
       "        vertical-align: top;\n",
       "    }\n",
       "\n",
       "    .dataframe thead th {\n",
       "        text-align: right;\n",
       "    }\n",
       "</style>\n",
       "<table border=\"1\" class=\"dataframe\">\n",
       "  <thead>\n",
       "    <tr style=\"text-align: right;\">\n",
       "      <th></th>\n",
       "      <th>Review</th>\n",
       "      <th>Neg Score</th>\n",
       "    </tr>\n",
       "  </thead>\n",
       "  <tbody>\n",
       "    <tr>\n",
       "      <th>0</th>\n",
       "      <td>If you enjoy a misogynistic, hostile work envi...</td>\n",
       "      <td>0.195</td>\n",
       "    </tr>\n",
       "    <tr>\n",
       "      <th>1</th>\n",
       "      <td>Over worked the place is Staffed with lazy pca...</td>\n",
       "      <td>0.238</td>\n",
       "    </tr>\n",
       "    <tr>\n",
       "      <th>2</th>\n",
       "      <td>This place is horrible! I would never recommen...</td>\n",
       "      <td>0.154</td>\n",
       "    </tr>\n",
       "    <tr>\n",
       "      <th>4</th>\n",
       "      <td>Do not take any job at health &amp; hospital corp....</td>\n",
       "      <td>0.175</td>\n",
       "    </tr>\n",
       "    <tr>\n",
       "      <th>5</th>\n",
       "      <td>The absolute worst job I’ve ever had. Poor man...</td>\n",
       "      <td>0.473</td>\n",
       "    </tr>\n",
       "    <tr>\n",
       "      <th>...</th>\n",
       "      <td>...</td>\n",
       "      <td>...</td>\n",
       "    </tr>\n",
       "    <tr>\n",
       "      <th>631</th>\n",
       "      <td>Senior management lacks organizational skills....</td>\n",
       "      <td>0.162</td>\n",
       "    </tr>\n",
       "    <tr>\n",
       "      <th>635</th>\n",
       "      <td>Great people but management does not appreciat...</td>\n",
       "      <td>0.265</td>\n",
       "    </tr>\n",
       "    <tr>\n",
       "      <th>637</th>\n",
       "      <td>I have worked in the medical field for over te...</td>\n",
       "      <td>0.160</td>\n",
       "    </tr>\n",
       "    <tr>\n",
       "      <th>638</th>\n",
       "      <td>Besides getting paid well for your work it is ...</td>\n",
       "      <td>0.155</td>\n",
       "    </tr>\n",
       "    <tr>\n",
       "      <th>641</th>\n",
       "      <td>This company is a joke... the managers don’t c...</td>\n",
       "      <td>0.139</td>\n",
       "    </tr>\n",
       "  </tbody>\n",
       "</table>\n",
       "<p>330 rows × 2 columns</p>\n",
       "</div>"
      ],
      "text/plain": [
       "                                                Review  Neg Score\n",
       "0    If you enjoy a misogynistic, hostile work envi...      0.195\n",
       "1    Over worked the place is Staffed with lazy pca...      0.238\n",
       "2    This place is horrible! I would never recommen...      0.154\n",
       "4    Do not take any job at health & hospital corp....      0.175\n",
       "5    The absolute worst job I’ve ever had. Poor man...      0.473\n",
       "..                                                 ...        ...\n",
       "631  Senior management lacks organizational skills....      0.162\n",
       "635  Great people but management does not appreciat...      0.265\n",
       "637  I have worked in the medical field for over te...      0.160\n",
       "638  Besides getting paid well for your work it is ...      0.155\n",
       "641  This company is a joke... the managers don’t c...      0.139\n",
       "\n",
       "[330 rows x 2 columns]"
      ]
     },
     "execution_count": 49,
     "metadata": {},
     "output_type": "execute_result"
    }
   ],
   "source": [
    "table3"
   ]
  },
  {
   "cell_type": "code",
   "execution_count": 50,
   "id": "bdd98a4e",
   "metadata": {},
   "outputs": [],
   "source": [
    "table3.to_excel(\"Negative Reviews.xlsx\")"
   ]
  },
  {
   "cell_type": "code",
   "execution_count": 51,
   "id": "1ca03578",
   "metadata": {},
   "outputs": [],
   "source": [
    "neg_reviews = list(table3[\"Review\"])"
   ]
  },
  {
   "cell_type": "code",
   "execution_count": 52,
   "id": "78a9eea2",
   "metadata": {
    "scrolled": true
   },
   "outputs": [
    {
     "data": {
      "text/plain": [
       "330"
      ]
     },
     "execution_count": 52,
     "metadata": {},
     "output_type": "execute_result"
    }
   ],
   "source": [
    "len(neg_reviews)"
   ]
  },
  {
   "cell_type": "markdown",
   "id": "59ae06df",
   "metadata": {},
   "source": [
    "## 6. Text Preprocessing"
   ]
  },
  {
   "cell_type": "code",
   "execution_count": 53,
   "id": "578c46c6",
   "metadata": {},
   "outputs": [],
   "source": [
    "from nltk.tokenize import word_tokenize"
   ]
  },
  {
   "cell_type": "code",
   "execution_count": 54,
   "id": "64c3022b",
   "metadata": {},
   "outputs": [],
   "source": [
    "from nltk.corpus import stopwords\n",
    "nltk_stopwords = set(stopwords.words(\"english\"))\n",
    "my_stopwords = [\"work\", \"company\", \"enjoy\", \"job\", \"position\", \"good\", \"thus\", \"day\", \"doesnt\", \"go\", \"going\", \"get\", \"ok\", \"take\", \"even\", \"know\", \"make\", \"would\"]\n",
    "new_stopwords = nltk_stopwords.union(my_stopwords)"
   ]
  },
  {
   "cell_type": "code",
   "execution_count": 55,
   "id": "54ac0783",
   "metadata": {},
   "outputs": [],
   "source": [
    "from nltk.stem import WordNetLemmatizer\n",
    "lem = WordNetLemmatizer()"
   ]
  },
  {
   "cell_type": "code",
   "execution_count": 56,
   "id": "b8bb8e5e",
   "metadata": {},
   "outputs": [],
   "source": [
    "from nltk import pos_tag\n",
    "from nltk.corpus import wordnet"
   ]
  },
  {
   "cell_type": "code",
   "execution_count": 57,
   "id": "ef995a86",
   "metadata": {},
   "outputs": [],
   "source": [
    "def get_pos(w):\n",
    "    tag = pos_tag([w])[0][1][0].upper()\n",
    "    if tag == \"V\":\n",
    "        return wordnet.VERB\n",
    "    elif tag == \"N\":\n",
    "        return wordnet.NOUN\n",
    "    elif tag == \"J\":\n",
    "        return wordnet.ADJ\n",
    "    elif tag == \"R\":\n",
    "        return wordnet.ADV\n",
    "    else:\n",
    "        return wordnet.NOUN"
   ]
  },
  {
   "cell_type": "code",
   "execution_count": 58,
   "id": "cb519c09",
   "metadata": {},
   "outputs": [],
   "source": [
    "def my_tokenizer(r):\n",
    "    r1 = word_tokenize(r)\n",
    "    r2 = [w.lower() for w in r1 if w.isalpha()]\n",
    "    r3 = [w for w in r2 if not w in new_stopwords]\n",
    "    r4 = [lem.lemmatize(w, get_pos(w)) for w in r3]\n",
    "    return r4"
   ]
  },
  {
   "cell_type": "code",
   "execution_count": 59,
   "id": "505afff6",
   "metadata": {},
   "outputs": [],
   "source": [
    "from sklearn.feature_extraction.text import TfidfVectorizer"
   ]
  },
  {
   "cell_type": "code",
   "execution_count": 60,
   "id": "96e620d2",
   "metadata": {},
   "outputs": [],
   "source": [
    "tfidf = TfidfVectorizer(tokenizer = my_tokenizer)"
   ]
  },
  {
   "cell_type": "code",
   "execution_count": 61,
   "id": "845cd004",
   "metadata": {},
   "outputs": [],
   "source": [
    "tfidf_neg_reviews = tfidf.fit_transform(neg_reviews)"
   ]
  },
  {
   "cell_type": "code",
   "execution_count": 62,
   "id": "28a3ab45",
   "metadata": {},
   "outputs": [],
   "source": [
    "tfidf_nr_terms = tfidf.get_feature_names()"
   ]
  },
  {
   "cell_type": "markdown",
   "id": "0e041d8d",
   "metadata": {},
   "source": [
    "## 7. Clustering (# of clusters and type of Clustering)"
   ]
  },
  {
   "cell_type": "code",
   "execution_count": 63,
   "id": "c1447291",
   "metadata": {},
   "outputs": [],
   "source": [
    "from sklearn.cluster import KMeans"
   ]
  },
  {
   "cell_type": "code",
   "execution_count": 64,
   "id": "0789d162",
   "metadata": {},
   "outputs": [],
   "source": [
    "distance = []\n",
    "\n",
    "K = range(1,8)\n",
    "for k in K:\n",
    "    km1 = KMeans(n_clusters=k, random_state=0)\n",
    "    km2 = km1.fit(tfidf_neg_reviews)\n",
    "    d = [km2.inertia_]\n",
    "    distance.extend(d)"
   ]
  },
  {
   "cell_type": "code",
   "execution_count": 65,
   "id": "449474c4",
   "metadata": {},
   "outputs": [],
   "source": [
    "import matplotlib.pyplot as plt"
   ]
  },
  {
   "cell_type": "code",
   "execution_count": 66,
   "id": "c83517ee",
   "metadata": {},
   "outputs": [
    {
     "data": {
      "image/png": "[encoded data removed]",
      "text/plain": [
       "<Figure size 432x288 with 1 Axes>"
      ]
     },
     "metadata": {
      "needs_background": "light"
     },
     "output_type": "display_data"
    }
   ],
   "source": [
    "plt.plot(K, distance)\n",
    "plt.show()"
   ]
  },
  {
   "cell_type": "markdown",
   "id": "00e215e7",
   "metadata": {},
   "source": [
    "Even though it was difficult, I think the most efficient number of clusters would be 6"
   ]
  },
  {
   "cell_type": "markdown",
   "id": "093ae94f",
   "metadata": {},
   "source": [
    "### NMF"
   ]
  },
  {
   "cell_type": "code",
   "execution_count": 67,
   "id": "1949427e",
   "metadata": {},
   "outputs": [],
   "source": [
    "from sklearn.decomposition import NMF"
   ]
  },
  {
   "cell_type": "code",
   "execution_count": 68,
   "id": "45536dae",
   "metadata": {},
   "outputs": [],
   "source": [
    "nmf = NMF(n_components = 6, random_state=0)"
   ]
  },
  {
   "cell_type": "code",
   "execution_count": 69,
   "id": "efcc4dce",
   "metadata": {},
   "outputs": [
    {
     "name": "stderr",
     "output_type": "stream",
     "text": [
      "C:\\Users\\USUARIO\\anaconda3\\lib\\site-packages\\sklearn\\decomposition\\_nmf.py:312: FutureWarning: The 'init' value, when 'init=None' and n_components is less than n_samples and n_features, will be changed from 'nndsvd' to 'nndsvda' in 1.1 (renaming of 0.26).\n",
      "  warnings.warn((\"The 'init' value, when 'init=None' and \"\n"
     ]
    },
    {
     "data": {
      "text/plain": [
       "NMF(n_components=6, random_state=0)"
      ]
     },
     "execution_count": 69,
     "metadata": {},
     "output_type": "execute_result"
    }
   ],
   "source": [
    "nmf.fit(tfidf_neg_reviews)"
   ]
  },
  {
   "cell_type": "code",
   "execution_count": 70,
   "id": "be81662a",
   "metadata": {
    "scrolled": true
   },
   "outputs": [
    {
     "name": "stdout",
     "output_type": "stream",
     "text": [
      "['place', 'employee', 'horrible', 'one', 'work', 'like', 'manager', 'anyone', 'everyone', 'team', 'use', 'care', 'run', 'dont', 'hostile', 'hire', 'last', 'hard', 'give', 'career', 'take', 'feel', 'environment', 'great', 'always', 'worker', 'say', 'workplace', 'whole', 'claim']\n",
      "['pay', 'benefit', 'time', 'day', 'expect', 'week', 'hour', 'offer', 'low', 'vacation', 'sick', 'terrible', 'recommend', 'room', 'call', 'start', 'amount', 'nurse', 'stressful', 'bonus', 'schedule', 'great', 'advancement', 'perk', 'worker', 'high', 'home', 'part', 'slave', 'pto']\n",
      "['management', 'poor', 'employee', 'balance', 'high', 'lack', 'support', 'environment', 'change', 'turnover', 'life', 'salary', 'overall', 'training', 'leave', 'team', 'make', 'leadership', 'report', 'level', 'look', 'great', 'regard', 'idea', 'much', 'new', 'expectation', 'lot', 'stress', 'skill']\n",
      "['staff', 'patient', 'care', 'money', 'lot', 'nurse', 'support', 'toxic', 'many', 'hospital', 'problem', 'make', 'feel', 'get', 'payroll', 'well', 'unsafe', 'never', 'experience', 'client', 'difficult', 'concerned', 'run', 'shift', 'death', 'enough', 'helpful', 'check', 'especially', 'participant']\n",
      "['bad', 'work', 'ever', 'time', 'paid', 'never', 'life', 'project', 'management', 'answer', 'far', 'longer', 'year', 'favoritism', 'let', 'experience', 'less', 'anyone', 'stay', 'new', 'marketing', 'big', 'unprofessional', 'coordinator', 'do', 'communication', 'thing', 'sure', 'long', 'away']\n",
      "['people', 'fire', 'culture', 'promote', 'clueless', 'like', 'hr', 'organization', 'manager', 'management', 'let', 'mind', 'reason', 'keep', 'bully', 'wrong', 'school', 'high', 'laid', 'task', 'stay', 'way', 'close', 'upper', 'refuse', 'change', 'equip', 'dress', 'suit', 'competitor']\n"
     ]
    }
   ],
   "source": [
    "nmf_topics = nmf.components_.argsort()[:, ::-1]\n",
    "top_words_nmf = []\n",
    "\n",
    "for i in range(0,6):\n",
    "    top_words_2 = [tfidf_nr_terms[x] for x in nmf_topics[i, :30]]\n",
    "    top_words_nmf.append(top_words_2)\n",
    "    print(top_words_2)"
   ]
  },
  {
   "cell_type": "markdown",
   "id": "04813d26",
   "metadata": {},
   "source": [
    "## 8. Cosine Similarity using NMF Topic Words"
   ]
  },
  {
   "cell_type": "code",
   "execution_count": 71,
   "id": "182b34fe",
   "metadata": {},
   "outputs": [],
   "source": [
    "topic_words2 = []\n",
    "\n",
    "for t in top_words_nmf:\n",
    "    tt=[\" \".join(t)]\n",
    "    topic_words2.extend(tt)"
   ]
  },
  {
   "cell_type": "code",
   "execution_count": 72,
   "id": "add8b212",
   "metadata": {
    "scrolled": true
   },
   "outputs": [
    {
     "data": {
      "text/plain": [
       "['place employee horrible one work like manager anyone everyone team use care run dont hostile hire last hard give career take feel environment great always worker say workplace whole claim',\n",
       " 'pay benefit time day expect week hour offer low vacation sick terrible recommend room call start amount nurse stressful bonus schedule great advancement perk worker high home part slave pto',\n",
       " 'management poor employee balance high lack support environment change turnover life salary overall training leave team make leadership report level look great regard idea much new expectation lot stress skill',\n",
       " 'staff patient care money lot nurse support toxic many hospital problem make feel get payroll well unsafe never experience client difficult concerned run shift death enough helpful check especially participant',\n",
       " 'bad work ever time paid never life project management answer far longer year favoritism let experience less anyone stay new marketing big unprofessional coordinator do communication thing sure long away',\n",
       " 'people fire culture promote clueless like hr organization manager management let mind reason keep bully wrong school high laid task stay way close upper refuse change equip dress suit competitor']"
      ]
     },
     "execution_count": 72,
     "metadata": {},
     "output_type": "execute_result"
    }
   ],
   "source": [
    "topic_words2"
   ]
  },
  {
   "cell_type": "code",
   "execution_count": 73,
   "id": "f72593aa",
   "metadata": {},
   "outputs": [],
   "source": [
    "clusters = []\n",
    "\n",
    "for n in range (0,6):\n",
    "    c1 = \"Topic_\" + str(n)\n",
    "    clusters.append(c1)"
   ]
  },
  {
   "cell_type": "code",
   "execution_count": 74,
   "id": "764a6720",
   "metadata": {},
   "outputs": [
    {
     "data": {
      "text/plain": [
       "['Topic_0', 'Topic_1', 'Topic_2', 'Topic_3', 'Topic_4', 'Topic_5']"
      ]
     },
     "execution_count": 74,
     "metadata": {},
     "output_type": "execute_result"
    }
   ],
   "source": [
    "clusters"
   ]
  },
  {
   "cell_type": "code",
   "execution_count": 75,
   "id": "9b47f9c3",
   "metadata": {},
   "outputs": [],
   "source": [
    "from sklearn.feature_extraction.text import CountVectorizer"
   ]
  },
  {
   "cell_type": "code",
   "execution_count": 76,
   "id": "fb230dec",
   "metadata": {},
   "outputs": [],
   "source": [
    "cv = CountVectorizer(tokenizer = my_tokenizer)"
   ]
  },
  {
   "cell_type": "code",
   "execution_count": 77,
   "id": "387e0d22",
   "metadata": {},
   "outputs": [],
   "source": [
    "cv_reviews = cv.fit_transform(topic_words2)"
   ]
  },
  {
   "cell_type": "code",
   "execution_count": 78,
   "id": "b4a9318c",
   "metadata": {},
   "outputs": [],
   "source": [
    "cv_terms = cv.get_feature_names()"
   ]
  },
  {
   "cell_type": "code",
   "execution_count": 79,
   "id": "b6bbf76a",
   "metadata": {},
   "outputs": [],
   "source": [
    "from sklearn.metrics.pairwise import cosine_similarity"
   ]
  },
  {
   "cell_type": "code",
   "execution_count": 80,
   "id": "2dfe00a3",
   "metadata": {},
   "outputs": [],
   "source": [
    "cos_sim = cosine_similarity(cv_reviews)"
   ]
  },
  {
   "cell_type": "code",
   "execution_count": 81,
   "id": "8ec266d7",
   "metadata": {},
   "outputs": [],
   "source": [
    "cos_sim = cosine_similarity(cv_reviews)"
   ]
  },
  {
   "cell_type": "code",
   "execution_count": 86,
   "id": "f8e7f74d",
   "metadata": {},
   "outputs": [],
   "source": [
    "topic_names = [\"Poor Management\", \"Pay Equity\", \"Work-Life Balance\", \"Work Environment\", \"Organizational Behavior\", \"HR Management\"]"
   ]
  },
  {
   "cell_type": "code",
   "execution_count": 87,
   "id": "baf38da9",
   "metadata": {},
   "outputs": [],
   "source": [
    "import matplotlib.pyplot as plt\n",
    "import seaborn as sns"
   ]
  },
  {
   "cell_type": "code",
   "execution_count": 101,
   "id": "6ca6f053",
   "metadata": {},
   "outputs": [
    {
     "data": {
      "image/png": "[encoded data removed]",
      "text/plain": [
       "<Figure size 648x648 with 2 Axes>"
      ]
     },
     "metadata": {
      "needs_background": "light"
     },
     "output_type": "display_data"
    }
   ],
   "source": [
    "plt.figure(figsize=(9,9))\n",
    "sns.heatmap(cos_sim, vmin=0, vmax=0.25, center=0, cmap=\"PiYG\", annot=True, xticklabels=topic_names, yticklabels=topic_names)\n",
    "plt.show()"
   ]
  },
  {
   "cell_type": "code",
   "execution_count": null,
   "id": "23e1f708",
   "metadata": {},
   "outputs": [],
   "source": []
  }
 ],
 "metadata": {
  "kernelspec": {
   "display_name": "Python 3 (ipykernel)",
   "language": "python",
   "name": "python3"
  },
  "language_info": {
   "codemirror_mode": {
    "name": "ipython",
    "version": 3
   },
   "file_extension": ".py",
   "mimetype": "text/x-python",
   "name": "python",
   "nbconvert_exporter": "python",
   "pygments_lexer": "ipython3",
   "version": "3.9.7"
  }
 },
 "nbformat": 4,
 "nbformat_minor": 5
}
